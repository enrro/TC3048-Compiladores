{
 "cells": [
  {
   "cell_type": "code",
   "execution_count": 51,
   "metadata": {},
   "outputs": [
    {
     "name": "stdout",
     "output_type": "stream",
     "text": [
      "['dog', 'NN', 'is', 'ASSIGN', 'Class', 'NNP']\n"
     ]
    }
   ],
   "source": [
    "\n",
    "\n",
    "def tokens_from_file(file):\n",
    "    word = \"\"\n",
    "    list = []\n",
    "    read = False\n",
    "    with file as fileobj:\n",
    "        for line in fileobj:\n",
    "            for ch in line:\n",
    "                if(ch == \"\\'\" and read == False):\n",
    "                    read = True\n",
    "                    continue\n",
    "                if(read == True and ch == \"\\'\"):\n",
    "                    read = False\n",
    "                    list.append(word)\n",
    "                    word = \"\"\n",
    "                if(read == True):\n",
    "                    word += ch\n",
    "    return list\n",
    "            \n",
    "if __name__ == \"__main__\":\n",
    "    text_file = open(\"tokens.txt\", \"r\")\n",
    "    tokens  = tokens_from_file(text_file)\n",
    "    text_file.close()\n",
    "    print(tokens)\n",
    "    "
   ]
  }
 ],
 "metadata": {
  "kernelspec": {
   "display_name": "Python 3",
   "language": "python",
   "name": "python3"
  },
  "language_info": {
   "codemirror_mode": {
    "name": "ipython",
    "version": 3
   },
   "file_extension": ".py",
   "mimetype": "text/x-python",
   "name": "python",
   "nbconvert_exporter": "python",
   "pygments_lexer": "ipython3",
   "version": "3.6.4"
  }
 },
 "nbformat": 4,
 "nbformat_minor": 2
}
